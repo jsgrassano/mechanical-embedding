{
 "cells": [
  {
   "cell_type": "markdown",
   "metadata": {},
   "source": [
    "En el archivo .log están:\n",
    "\n",
    "#energía total: \"Total KS-DFT energy\"\n",
    "#cargas Mulliken por orbital por atomo: \"Mulliken charges per centre and basis function type\"\n",
    "cargas de Loprop por atomo: \"  LoProp Charges per center \"\n",
    "\n",
    "Dentro de \"Molecular properties\"\n",
    "#Dipolo molec:   \" Dipole Moment (Debye) \"\n",
    "quadrupolo molec: \" Quadrupole Moment \"\n",
    "\n",
    "Dentro de cada DOMAIN\n",
    "propiedades localizadas: (para átomos y para enlaces)\n",
    "#carga \"Total charge   \"\n",
    "dipolo electronico \"Electronic Dipole \"\n",
    "cuadrupolo electronico \"Electronic Quadrupole\"\n",
    "magnitud del dipolo \"Dipole magnitude\"\n",
    "matriz de polarizabilidad \" Symmetrized Local Polarizability Tensor \"\n",
    "#polarizabilidad isotropica \"Isotropic Polarizability\"\n",
    "\n",
    "Dentro de \"The Molecular Multipole Moments \"\n",
    "\n",
    "multipolos moleculares \n",
    "#tensor de polar. molecular \"  Molecular Polarizability Tensor\"\n"
   ]
  },
  {
   "cell_type": "code",
   "execution_count": null,
   "metadata": {},
   "outputs": [],
   "source": []
  },
  {
   "cell_type": "code",
   "execution_count": 24,
   "metadata": {},
   "outputs": [],
   "source": [
    "def leer_archivo(path_to_log):\n",
    "    molec_dip_magnitude = [] #\n",
    "    molec_dip_vector = [0,0,0] #\n",
    "    molec_pol_tensor = [] #\n",
    "    \n",
    "    atoms_ = [] #\n",
    "    bonds_ = [] #\n",
    "    atoms_charge_mull = [] #\n",
    "    atoms_charge_loprop = [] #\n",
    "    atoms_dip_magnitude = [] #\n",
    "    atoms_dip_vector = [] #\n",
    "    atoms_iso_pol = []  #\n",
    "    bonds_iso_pol = []  #\n",
    "    \n",
    "    with open(path_to_log, 'r') as f:\n",
    "        molecular_prop = False\n",
    "        atomic_domain = True\n",
    "        mol_pol_tensor= False\n",
    "        mulliken = False\n",
    "        linea_ref_1=0\n",
    "        linea_ref_2=0\n",
    "        linea_ref_3=0\n",
    "        atoms_dipoles = False\n",
    "        \n",
    "        for l_n, line in enumerate(f): #ITERO SOBRE LAS LINEAS DEL ARCHIVO\n",
    "            line.replace(\",\",\" \")\n",
    "            \n",
    "#  ENERGIA\n",
    "            if 'Total KS-DFT energy' in line:\n",
    "                energy = float(line.split()[-1])\n",
    "            \n",
    "#  PROPIEDADES MOLECULARES\n",
    "            if 'Molecular properties' in line:\n",
    "                molecular_prop = True\n",
    "                linea_ref_1 = l_n #GUARDO LA LINEA COMO REFERENCIA\n",
    "                \n",
    "##  DIPOLO MOLECULAR (VECTOR Y MAGNITUD)\n",
    "            if l_n == linea_ref_1 + 7 and molecular_prop == True: # 7 LINEAS MAS ABAJO ESTAN LOS VALORES\n",
    "                molec_dip_vector[0] = float(line.split()[-7])\n",
    "                molec_dip_vector[1] = float(line.split()[-5])\n",
    "                molec_dip_vector[2] = float(line.split()[-3])\n",
    "                molec_dip_magnitude = float(line.split()[-1])\n",
    "\n",
    "# PROPIEDADES LOCALIZADAS                \n",
    "            if 'ATOMIC DOMAIN' in line:\n",
    "                atoms_.append(line.split()[-1])\n",
    "                atomic_domain = True\n",
    "                bond_domain = False\n",
    "            if 'BOND DOMAIN' in line:\n",
    "                bonds_.append([line.split()[-2],line.split()[-1]])\n",
    "                bond_domain = True\n",
    "                atomic_domain = False\n",
    "            \n",
    "# ATOMIC DIPOLE VECTORS\n",
    "            if 'Electronic Dipole' in line:\n",
    "                atoms_dipoles = True\n",
    "                linea_ref_2 = l_n\n",
    "            if l_n == linea_ref_2 + 3 and atoms_dipoles == True and atomic_domain== True:\n",
    "                vector = [float(i) for i in line.split()]\n",
    "                atoms_dip_vector.append(vector)                \n",
    "\n",
    "# DIPOLE MAGNITUDE\n",
    "            if 'Dipole magnitude' in line and atoms_dipoles == True and atomic_domain== True:\n",
    "                atoms_dip_magnitude.append(float(line.split()[-1]))\n",
    "                \n",
    "##CARGAS MULLIKEN \n",
    "            if 'Mulliken' in line:\n",
    "                mulliken = True\n",
    "            if mulliken == True and \"N-E\" in line:\n",
    "                atoms_charge_mull = [float(i) for i in line.split()[1:]]\n",
    "                \n",
    "  #          if len(atoms_charge_mull) < #cantidad de atomos\n",
    "  #              atoms_charge_mull.append([float(i) for i in line.split()[1:]])\n",
    "  #              mulliken = False\n",
    "            \n",
    "##CARGA LOPROP POR ATOMO\n",
    "            if 'Total charge' in line:\n",
    "                charge = float(line.split()[-1])\n",
    "                if atomic_domain == True:\n",
    "                    atoms_charge_loprop.append(charge)\n",
    "                    \n",
    "##POLARIZABILIDAD POR DOMINIO            \n",
    "            if 'Isotropic' in line:\n",
    "                polarizability = float(line.split()[-1])\n",
    "                if atomic_domain == True:\n",
    "                    atoms_iso_pol.append(polarizability)\n",
    "                elif atomic_domain == False:\n",
    "                    bonds_iso_pol.append(polarizability)\n",
    "                    \n",
    "            if 'Molecular Polarizability Tensor' in line:\n",
    "                mol_pol_tensor = True\n",
    "                linea_ref_3=l_n\n",
    "            if linea_ref_3+2<l_n and l_n<linea_ref_3 + 6 and mol_pol_tensor == True:\n",
    "                molec_pol_tensor.append([float(i) for i in line.split()])\n",
    "    f.close()\n",
    "    \n",
    "    \n",
    "    total_iso_pol=[0]*len(atoms_)\n",
    "    for i, atom in enumerate(atoms_):\n",
    "        total_iso_pol[i] = atoms_iso_pol[i]\n",
    "        for j, bond in enumerate(bonds_):\n",
    "            if atom in bond:\n",
    "                total_iso_pol[i] = total_iso_pol[i] + bonds_iso_pol[j]*0.5\n",
    "    print('Dipolo molecular', molec_dip_magnitude)\n",
    "    print('Dipolo molecular vector', molec_dip_vector)\n",
    "    print('Tensor pol molecular', molec_pol_tensor)\n",
    "    print('atomos', len(atoms_))\n",
    "    print('enlaces', len(bonds_))\n",
    "    print('cargas mulliken', atoms_charge_mull)\n",
    "    print('cargas loprop', len(atoms_charge_loprop))\n",
    "    print('dipolos atomicos', len(atoms_dip_magnitude))\n",
    "    print('dipolos atomicos vector', len(atoms_dip_vector))\n",
    "    print('pol atomica iso', len(atoms_iso_pol))\n",
    "    print(' pol enlaces iso', len(bonds_iso_pol))\n",
    "        \n",
    "    return "
   ]
  },
  {
   "cell_type": "code",
   "execution_count": 25,
   "metadata": {},
   "outputs": [
    {
     "name": "stdout",
     "output_type": "stream",
     "text": [
      "Dipolo molecular 4.0125\n",
      "Dipolo molecular vector [3.1368, -2.0719, 1.403]\n",
      "Tensor pol molecular [[66.48717167459485], [1.8398975754023217, 65.7642780764651], [0.8333040243087171, -1.3082724970714683, 35.51106751570654]]\n",
      "atomos 14\n",
      "enlaces 14\n",
      "cargas mulliken [-0.469, -0.5119]\n",
      "cargas loprop 14\n",
      "dipolos atomicos 14\n",
      "dipolos atomicos vector 14\n",
      "pol atomica iso 14\n",
      " pol enlaces iso 14\n"
     ]
    }
   ],
   "source": [
    "leer_archivo(\"C3H7N1O3_0.log\")"
   ]
  },
  {
   "cell_type": "code",
   "execution_count": 24,
   "metadata": {},
   "outputs": [],
   "source": [
    "def extraer_pols(path_to_log):\n",
    "    atoms_ = []\n",
    "    bonds_ = []\n",
    "    atoms_pol = []\n",
    "    bonds_pol = []\n",
    "    with open(path_to_log, 'r') as f:\n",
    "        atomic_domain = True\n",
    "        mol_tensor= False\n",
    "        linea_ref=0\n",
    "        for l_n, line in enumerate(f):\n",
    "            line.replace(\",\",\" \")\n",
    "            if 'ATOMIC DOMAIN' in line:\n",
    "                atoms_.append(line.split()[-1])\n",
    "                atomic_domain = True\n",
    "            if 'BOND DOMAIN' in line:\n",
    "                bonds_.append([line.split()[-2],line.split()[-1]])\n",
    "                atomic_domain = False\n",
    "            if 'Isotropic' in line:\n",
    "                polarizability = line.split()[-1]\n",
    "                if atomic_domain == True:\n",
    "                    atoms_pol.append(polarizability)\n",
    "                elif atomic_domain == False:\n",
    "                    bonds_pol.append(polarizability)\n",
    "            if 'Molecular Polarizability Tensor' in line:\n",
    "                mol_pol_tensor = True\n",
    "            if mol_tensor == True:\n",
    "                linea_ref=linea_ref+1\n",
    "                if 3<linea_ref and linea_ref<7:\n",
    "                    values= line.split()\n",
    "                    for value in values:\n",
    "                        tensor.append(float(value))\n",
    "    f.close()\n",
    "    total_pol=[0]*len(atoms_)\n",
    "    for i, atom in enumerate(atoms_):\n",
    "        total_pol[i] = float(atoms_pol[i])\n",
    "        for j, bond in enumerate(bonds_):\n",
    "            if atom in bond:\n",
    "                total_pol[i] = total_pol[i] + float(bonds_pol[j])*0.5\n",
    "    return atoms_, total_pol, tensor"
   ]
  },
  {
   "cell_type": "code",
   "execution_count": 25,
   "metadata": {},
   "outputs": [
    {
     "data": {
      "text/plain": [
       "(['O1', 'H2', 'H3'], [3.02664763, 1.7124623200000002, 1.712703935])"
      ]
     },
     "execution_count": 25,
     "metadata": {},
     "output_type": "execute_result"
    }
   ],
   "source": [
    "extraer_pols(\"water.log\")"
   ]
  },
  {
   "cell_type": "code",
   "execution_count": 18,
   "metadata": {},
   "outputs": [
    {
     "name": "stdout",
     "output_type": "stream",
     "text": [
      "['O1', 'H2', 'H3']\n",
      "['3.02664763', '0.46483343', '0.46488007']\n",
      "[['H2', 'O1'], ['H3', 'O1']]\n",
      "['2.49525778', '2.49564773']\n"
     ]
    }
   ],
   "source": [
    "print(atoms_)\n",
    "print(atoms_pol)\n",
    "print(bonds_)\n",
    "print(bonds_pol)"
   ]
  },
  {
   "cell_type": "code",
   "execution_count": 19,
   "metadata": {},
   "outputs": [],
   "source": [
    "def corregir_pols(atoms_,atoms_pol,bonds_,bonds_pol):\n",
    "    total_pol=[0]*len(atoms_)\n",
    "    for i, atom in enumerate(atoms_):\n",
    "        total_pol[i] = float(atoms_pol[i])\n",
    "        for j, bond in enumerate(bonds_):\n",
    "            if atom in bond:\n",
    "                total_pol[i] = total_pol[i] + float(bonds_pol[j])*0.5\n",
    "    return total_pol"
   ]
  },
  {
   "cell_type": "code",
   "execution_count": 20,
   "metadata": {
    "scrolled": true
   },
   "outputs": [
    {
     "data": {
      "text/plain": [
       "[5.522100385, 1.7124623200000002, 1.712703935]"
      ]
     },
     "execution_count": 20,
     "metadata": {},
     "output_type": "execute_result"
    }
   ],
   "source": [
    "corregir_pols(atoms_,atoms_pol,bonds_,bonds_pol)"
   ]
  }
 ],
 "metadata": {
  "kernelspec": {
   "display_name": "Python 3",
   "language": "python",
   "name": "python3"
  },
  "language_info": {
   "codemirror_mode": {
    "name": "ipython",
    "version": 3
   },
   "file_extension": ".py",
   "mimetype": "text/x-python",
   "name": "python",
   "nbconvert_exporter": "python",
   "pygments_lexer": "ipython3",
   "version": "3.8.10"
  }
 },
 "nbformat": 4,
 "nbformat_minor": 2
}
