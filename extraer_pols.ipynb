{
 "cells": [
  {
   "cell_type": "code",
   "execution_count": 17,
   "metadata": {},
   "outputs": [],
   "source": [
    "atoms_ = []\n",
    "bonds_ = []\n",
    "atoms_pol = []\n",
    "bonds_pol = []\n",
    "with open(\"water.log\", 'r') as f:\n",
    "    atomic_domain = True\n",
    "    for l_n, line in enumerate(f):\n",
    "        # search string\n",
    "        if 'ATOMIC DOMAIN' in line:\n",
    "            atoms_.append(line.split()[-1])\n",
    "            atomic_domain = True\n",
    "        if 'BOND DOMAIN' in line:\n",
    "            bonds_.append([line.split()[-2],line.split()[-1]])\n",
    "            atomic_domain = False\n",
    "        if 'Isotropic' in line:\n",
    "            polarizability = line.split()[-1]\n",
    "            if atomic_domain == True:\n",
    "                atoms_pol.append(polarizability)\n",
    "            elif atomic_domain == False:\n",
    "                bonds_pol.append(polarizability)\n",
    "\n",
    "\n",
    "            "
   ]
  },
  {
   "cell_type": "code",
   "execution_count": 51,
   "metadata": {},
   "outputs": [
    {
     "name": "stdout",
     "output_type": "stream",
     "text": [
      "[9.341432030118096, -5.82618863799e-05, 8.898202497594799, -0.0002114828757704, -0.0001273343128588, 8.602165421177142]\n"
     ]
    }
   ],
   "source": [
    "tensor=[]\n",
    "with open(\"water.log\", 'r') as f:\n",
    "    mol_tensor= False\n",
    "    linea_ref=0\n",
    "    for line in f:\n",
    "        if 'Molecular Polarizability Tensor' in line:\n",
    "             mol_tensor = True\n",
    "        if mol_tensor == True:\n",
    "            linea_ref=linea_ref+1\n",
    "            if 3<linea_ref and linea_ref<7:\n",
    "                values= line.split()\n",
    "                for value in values:\n",
    "                    tensor.append(float(value))\n",
    "\n",
    "print(tensor)\n",
    "            "
   ]
  },
  {
   "cell_type": "code",
   "execution_count": 24,
   "metadata": {},
   "outputs": [],
   "source": [
    "def extraer_pols(path_to_log):\n",
    "    atoms_ = []\n",
    "    bonds_ = []\n",
    "    atoms_pol = []\n",
    "    bonds_pol = []\n",
    "    with open(path_to_log, 'r') as f:\n",
    "        atomic_domain = True\n",
    "        mol_tensor= False\n",
    "        linea_ref=0\n",
    "        for l_n, line in enumerate(f):\n",
    "            line.replace(\",\",\" \")\n",
    "            if 'ATOMIC DOMAIN' in line:\n",
    "                atoms_.append(line.split()[-1])\n",
    "                atomic_domain = True\n",
    "            if 'BOND DOMAIN' in line:\n",
    "                bonds_.append([line.split()[-2],line.split()[-1]])\n",
    "                atomic_domain = False\n",
    "            if 'Isotropic' in line:\n",
    "                polarizability = line.split()[-1]\n",
    "                if atomic_domain == True:\n",
    "                    atoms_pol.append(polarizability)\n",
    "                elif atomic_domain == False:\n",
    "                    bonds_pol.append(polarizability)\n",
    "            if 'Molecular Polarizability Tensor' in line:\n",
    "                mol_pol_tensor = True\n",
    "            if mol_tensor == True:\n",
    "                linea_ref=linea_ref+1\n",
    "                if 3<linea_ref and linea_ref<7:\n",
    "                    values= line.split()\n",
    "                    for value in values:\n",
    "                        tensor.append(float(value))\n",
    "    f.close()\n",
    "    total_pol=[0]*len(atoms_)\n",
    "    for i, atom in enumerate(atoms_):\n",
    "        total_pol[i] = float(atoms_pol[i])\n",
    "        for j, bond in enumerate(bonds_):\n",
    "            if atom in bond:\n",
    "                total_pol[i] = total_pol[i] + float(bonds_pol[j])*0.5\n",
    "    return atoms_, total_pol, tensor"
   ]
  },
  {
   "cell_type": "code",
   "execution_count": 25,
   "metadata": {},
   "outputs": [
    {
     "data": {
      "text/plain": [
       "(['O1', 'H2', 'H3'], [3.02664763, 1.7124623200000002, 1.712703935])"
      ]
     },
     "execution_count": 25,
     "metadata": {},
     "output_type": "execute_result"
    }
   ],
   "source": [
    "extraer_pols(\"water.log\")"
   ]
  },
  {
   "cell_type": "code",
   "execution_count": 18,
   "metadata": {},
   "outputs": [
    {
     "name": "stdout",
     "output_type": "stream",
     "text": [
      "['O1', 'H2', 'H3']\n",
      "['3.02664763', '0.46483343', '0.46488007']\n",
      "[['H2', 'O1'], ['H3', 'O1']]\n",
      "['2.49525778', '2.49564773']\n"
     ]
    }
   ],
   "source": [
    "print(atoms_)\n",
    "print(atoms_pol)\n",
    "print(bonds_)\n",
    "print(bonds_pol)"
   ]
  },
  {
   "cell_type": "code",
   "execution_count": 19,
   "metadata": {},
   "outputs": [],
   "source": [
    "def corregir(atoms_,atoms_pol,bonds_,bonds_pol):\n",
    "    total_pol=[0]*len(atoms_)\n",
    "    for i, atom in enumerate(atoms_):\n",
    "        total_pol[i] = float(atoms_pol[i])\n",
    "        for j, bond in enumerate(bonds_):\n",
    "            if atom in bond:\n",
    "                total_pol[i] = total_pol[i] + float(bonds_pol[j])*0.5\n",
    "    return total_pol"
   ]
  },
  {
   "cell_type": "code",
   "execution_count": 20,
   "metadata": {
    "scrolled": true
   },
   "outputs": [
    {
     "data": {
      "text/plain": [
       "[5.522100385, 1.7124623200000002, 1.712703935]"
      ]
     },
     "execution_count": 20,
     "metadata": {},
     "output_type": "execute_result"
    }
   ],
   "source": [
    "corregir(atoms_,atoms_pol,bonds_,bonds_pol)"
   ]
  }
 ],
 "metadata": {
  "kernelspec": {
   "display_name": "Python 3",
   "language": "python",
   "name": "python3"
  },
  "language_info": {
   "codemirror_mode": {
    "name": "ipython",
    "version": 3
   },
   "file_extension": ".py",
   "mimetype": "text/x-python",
   "name": "python",
   "nbconvert_exporter": "python",
   "pygments_lexer": "ipython3",
   "version": "3.7.3"
  }
 },
 "nbformat": 4,
 "nbformat_minor": 2
}
